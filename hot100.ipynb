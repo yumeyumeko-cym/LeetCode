{
 "cells": [
  {
   "cell_type": "code",
   "execution_count": 1,
   "id": "1d9a3b3e",
   "metadata": {},
   "outputs": [],
   "source": [
    "import numpy as np\n",
    "from typing import *"
   ]
  },
  {
   "cell_type": "markdown",
   "id": "1c435db2",
   "metadata": {},
   "source": [
    "# 1. Two Sum\n",
    "Given an array of integers nums and an integer target, return indices of the two numbers such that they add up to target.\n",
    "\n",
    "You may assume that each input would have exactly one solution, and you may not use the same element twice.\n",
    "\n",
    "You can return the answer in any order."
   ]
  },
  {
   "cell_type": "code",
   "execution_count": 5,
   "id": "85015fe9",
   "metadata": {},
   "outputs": [
    {
     "name": "stdout",
     "output_type": "stream",
     "text": [
      "[0, 1]\n"
     ]
    }
   ],
   "source": [
    "def twoSum(nums: List[int], target: int) -> List[int]:\n",
    "    record = {}\n",
    "    result = []\n",
    "    for idx in range(len(nums)):\n",
    "        if target - nums[idx] in record.keys():\n",
    "            result = [record[target - nums[idx]], idx]\n",
    "\n",
    "        else:\n",
    "            record[nums[idx]] = idx\n",
    "\n",
    "\n",
    "    return result\n",
    "\n",
    "result = twoSum([2,7,11,15], 9)\n",
    "print(result)"
   ]
  },
  {
   "cell_type": "markdown",
   "id": "a23ad490",
   "metadata": {},
   "source": [
    "# 49. Group Anagrams\n",
    "Given an array of strings strs, group the anagrams together. You can return the answer in any order.\n",
    "\n",
    "Example 1:\n",
    "\n",
    "Input: strs = [\"eat\",\"tea\",\"tan\",\"ate\",\"nat\",\"bat\"]\n",
    "\n",
    "Output: [[\"bat\"],[\"nat\",\"tan\"],[\"ate\",\"eat\",\"tea\"]]\n",
    "\n",
    "Explanation:\n",
    "\n",
    "There is no string in strs that can be rearranged to form \"bat\".\n",
    "The strings \"nat\" and \"tan\" are anagrams as they can be rearranged to form each other.\n",
    "The strings \"ate\", \"eat\", and \"tea\" are anagrams as they can be rearranged to form each other."
   ]
  },
  {
   "cell_type": "code",
   "execution_count": null,
   "id": "27605d0d",
   "metadata": {},
   "outputs": [
    {
     "name": "stdout",
     "output_type": "stream",
     "text": [
      "[['eat', 'tea', 'ate'], ['tan', 'nat'], ['bat']]\n"
     ]
    }
   ],
   "source": [
    "# 1. Make the order in the word irrelevant\n",
    "# 2. Output should be a list\n",
    "def groupAnagrams(strs: List[str]) -> List[List[str]]:\n",
    "    record = DefaultDict(list)\n",
    "\n",
    "    for word in strs:\n",
    "        a = \"\".join(sorted(word))\n",
    "        record[a].append(word)\n",
    "\n",
    "    return list(record.values())\n",
    "\n",
    "\n",
    "result = groupAnagrams([\"eat\",\"tea\",\"tan\",\"ate\",\"nat\",\"bat\"])\n",
    "print(result)\n",
    "\n",
    "\n"
   ]
  },
  {
   "cell_type": "markdown",
   "id": "43e3d6e9",
   "metadata": {},
   "source": [
    "# 128. Longest Consecutive Sequence\n",
    "Given an unsorted array of integers nums, return the length of the longest consecutive elements sequence.\n",
    "\n",
    "You must write an algorithm that runs in O(n) time.\n",
    "\n",
    "Example 1:\n",
    "\n",
    "Input: nums = [100,4,200,1,3,2]\n",
    "Output: 4\n",
    "Explanation: The longest consecutive elements sequence is [1, 2, 3, 4]. Therefore its length is 4."
   ]
  },
  {
   "cell_type": "code",
   "execution_count": 13,
   "id": "fc162b40",
   "metadata": {},
   "outputs": [
    {
     "data": {
      "text/plain": [
       "4"
      ]
     },
     "execution_count": 13,
     "metadata": {},
     "output_type": "execute_result"
    }
   ],
   "source": [
    "# Only start counting when it is the first number in a sequence\n",
    "\n",
    "def longestConsecutive(nums: List[int]) -> int:\n",
    "    if len(nums) == 0:\n",
    "        return 0\n",
    "    \n",
    "\n",
    "    result = 1\n",
    "    num_set = set(nums)\n",
    "    for num in num_set:\n",
    "        if num-1 in num_set:\n",
    "            continue\n",
    "        temp = 1\n",
    "        while num+1 in num_set:\n",
    "            num  += 1\n",
    "            temp += 1\n",
    "            if temp > result:\n",
    "                result = temp\n",
    "\n",
    "\n",
    "\n",
    "    return result\n",
    "\n",
    "longestConsecutive([100,4,200,1,3,2])"
   ]
  },
  {
   "cell_type": "markdown",
   "id": "729c363a",
   "metadata": {},
   "source": [
    "# 283. Move Zeroes \n",
    "Given an integer array nums, move all 0's to the end of it while maintaining the relative order of the non-zero elements.\n",
    "\n",
    "Note that you must do this in-place without making a copy of the array.\n",
    "\n",
    "Example 1:\n",
    "\n",
    "Input: nums = [0,1,0,3,12]\n",
    "Output: [1,3,12,0,0]"
   ]
  },
  {
   "cell_type": "code",
   "execution_count": 19,
   "id": "51608d1c",
   "metadata": {},
   "outputs": [
    {
     "name": "stdout",
     "output_type": "stream",
     "text": [
      "[1, 3, 12, 0, 0]\n"
     ]
    }
   ],
   "source": [
    "def moveZeroes(nums: List[int]) -> None:\n",
    "    pointer = 0\n",
    "    for idx, num in enumerate(nums):\n",
    "        if num != 0:\n",
    "            nums[idx], nums[pointer] = nums[pointer], nums[idx]\n",
    "            pointer += 1\n",
    "        continue\n",
    "\n",
    "\n",
    "nums = [0,1,0,3,12]\n",
    "moveZeroes(nums)\n",
    "print(nums)\n"
   ]
  },
  {
   "cell_type": "markdown",
   "id": "94c16c6a",
   "metadata": {},
   "source": [
    "# 11. Container With Most Water\n",
    "You are given an integer array height of length n. There are n vertical lines drawn such that the two endpoints of the ith line are (i, 0) and (i, height[i]).\n",
    "\n",
    "Find two lines that together with the x-axis form a container, such that the container contains the most water.\n",
    "\n",
    "Return the maximum amount of water a container can store.\n",
    "\n",
    "Example 1:\n",
    "\n",
    "\n",
    "Input: height = [1,8,6,2,5,4,8,3,7]\n",
    "Output: 49\n",
    "Explanation: The above vertical lines are represented by array [1,8,6,2,5,4,8,3,7]. In this case, the max area of water (blue section) the container can contain is 49."
   ]
  },
  {
   "cell_type": "code",
   "execution_count": 5,
   "id": "b48489b4",
   "metadata": {},
   "outputs": [
    {
     "name": "stdout",
     "output_type": "stream",
     "text": [
      "1\n"
     ]
    }
   ],
   "source": [
    "def maxArea(height: List[int]) -> int:\n",
    "    right = len(height) - 1\n",
    "    left = 0\n",
    "    max_area = (right - left) * min(height[left], height[right])\n",
    "\n",
    "    while left < right:\n",
    "        if left < right and height[left] < height[right]:\n",
    "            left += 1\n",
    "            new_area = (right - left) * min(height[left], height[right])\n",
    "            max_area = max(new_area, max_area)\n",
    "\n",
    "        else:\n",
    "            right -= 1\n",
    "            new_area = (right - left) * min(height[left], height[right])\n",
    "            max_area = max(new_area, max_area)\n",
    "\n",
    "    return max_area\n",
    "\n",
    "height = [1,1]\n",
    "print(maxArea(height))"
   ]
  },
  {
   "cell_type": "markdown",
   "id": "cb5cd0fa",
   "metadata": {},
   "source": [
    "# 15. 3Sum\n",
    "Given an integer array nums, return all the triplets [nums[i], nums[j], nums[k]] such that i != j, i != k, and j != k, and nums[i] + nums[j] + nums[k] == 0.\n",
    "\n",
    "Notice that the solution set must not contain duplicate triplets.\n",
    "\n",
    "Example 1:\n",
    "\n",
    "Input: nums = [-1,0,1,2,-1,-4]\n",
    "\n",
    "Output: [[-1,-1,2],[-1,0,1]]\n",
    "\n",
    "Explanation: \n",
    "nums[0] + nums[1] + nums[2] = (-1) + 0 + 1 = 0.\n",
    "nums[1] + nums[2] + nums[4] = 0 + 1 + (-1) = 0.\n",
    "nums[0] + nums[3] + nums[4] = (-1) + 2 + (-1) = 0.\n",
    "The distinct triplets are [-1,0,1] and [-1,-1,2].\n",
    "Notice that the order of the output and the order of the triplets does not matter."
   ]
  },
  {
   "cell_type": "code",
   "execution_count": 13,
   "id": "3fb5b600",
   "metadata": {},
   "outputs": [
    {
     "name": "stdout",
     "output_type": "stream",
     "text": [
      "[[-1, -1, 2], [-1, 0, 1]]\n"
     ]
    }
   ],
   "source": [
    "def threeSum(nums: List[int]) -> List[List[int]]:\n",
    "    nums = sorted(nums)\n",
    "    result = []\n",
    "    for idx in range(len(nums)-2):\n",
    "        if nums[idx] > 0:\n",
    "            break\n",
    "    \n",
    "        if idx > 0 and nums[idx] == nums[idx-1]:\n",
    "            continue\n",
    "\n",
    "        left = idx + 1\n",
    "        right = len(nums) - 1\n",
    "\n",
    "\n",
    "        while left < right:\n",
    "            value = nums[idx] + nums[left] + nums[right]\n",
    "            if value < 0:\n",
    "                left += 1\n",
    "            elif value > 0:\n",
    "                right -= 1\n",
    "            else:\n",
    "                result.append([nums[idx], nums[left], nums[right]])\n",
    "                # skip duplicate\n",
    "                while left < right and nums[left] == nums[left+1]:\n",
    "                    left += 1\n",
    "                \n",
    "                while left < right and nums[right] == nums[right-1]:\n",
    "                    right -= 1\n",
    "\n",
    "\n",
    "                left  += 1\n",
    "                right -= 1\n",
    "                \n",
    "    return result\n",
    "\n",
    "\n",
    "nums = [-1,0,1,2,-1,-4]\n",
    "print(threeSum(nums))\n",
    "\n",
    "\n",
    "\n"
   ]
  },
  {
   "cell_type": "markdown",
   "id": "7526ff49",
   "metadata": {},
   "source": [
    "# 3. Longest Substring Without Repeating Characters\n",
    "Given a string s, find the length of the longest substring without duplicate characters.\n",
    "\n",
    "Example 1:\n",
    "\n",
    "Input: s = \"abcabcbb\"\n",
    "Output: 3\n",
    "Explanation: The answer is \"abc\", with the length of 3.\n"
   ]
  },
  {
   "cell_type": "code",
   "execution_count": 24,
   "id": "15d888e7",
   "metadata": {},
   "outputs": [
    {
     "name": "stdout",
     "output_type": "stream",
     "text": [
      "3\n"
     ]
    }
   ],
   "source": [
    "def lengthOfLongestSubstring(s: str) -> int:\n",
    "    left = 0\n",
    "    record = set()\n",
    "    max_length = 0\n",
    "\n",
    "    for right in range(len(s)):\n",
    "        while s[right] in record:\n",
    "            record.remove(s[left])\n",
    "            left += 1\n",
    "\n",
    "        record.add(s[right])\n",
    "        max_length = max(len(record), max_length)\n",
    "\n",
    "    return max_length\n",
    "\n",
    "s = \"pwwkew\"\n",
    "print(lengthOfLongestSubstring(s))"
   ]
  },
  {
   "cell_type": "markdown",
   "id": "4066a6cc",
   "metadata": {},
   "source": [
    "# 438. Find All Anagrams in a String\n",
    "Given two strings s and p, return an array of all the start indices of p's anagrams in s. You may return the answer in any order.\n",
    "\n",
    " \n",
    "\n",
    "Example 1:\n",
    "\n",
    "Input: s = \"cbaebabacd\", p = \"abc\"\n",
    "\n",
    "Output: [0,6]\n",
    "\n",
    "Explanation:\n",
    "The substring with start index = 0 is \"cba\", which is an anagram of \"abc\".\n",
    "The substring with start index = 6 is \"bac\", which is an anagram of \"abc\"."
   ]
  },
  {
   "cell_type": "code",
   "execution_count": 26,
   "id": "8e7bd7f2",
   "metadata": {},
   "outputs": [
    {
     "name": "stdout",
     "output_type": "stream",
     "text": [
      "[0, 6]\n"
     ]
    }
   ],
   "source": [
    "def findAnagrams(s: str, p: str) -> List[int]:\n",
    "    s_dict = DefaultDict(int)\n",
    "    p_dict = DefaultDict(int)\n",
    "    result = []\n",
    "    p_len = len(p)\n",
    "    for char in p:\n",
    "        p_dict[char] += 1\n",
    "\n",
    "    for idx, char in enumerate(s):\n",
    "        s_dict[char] += 1\n",
    "        if sum(s_dict.values()) > p_len:\n",
    "            s_dict[s[idx-p_len]] -= 1\n",
    "            if s_dict[s[idx-p_len]] == 0:\n",
    "                del s_dict[s[idx-p_len]]\n",
    "\n",
    "\n",
    "        if s_dict == p_dict:\n",
    "            result.append(idx - p_len + 1)\n",
    "\n",
    "    return result \n",
    "\n",
    "s = \"cbaebabacd\"\n",
    "p = \"abc\"\n",
    "\n",
    "print(findAnagrams(s, p))"
   ]
  },
  {
   "cell_type": "markdown",
   "id": "299fc03b",
   "metadata": {},
   "source": [
    "# 560. Subarray Sum Equals K\n",
    "\n",
    "Given an array of integers nums and an integer k, return the total number of subarrays whose sum equals to k.\n",
    "\n",
    "A subarray is a contiguous non-empty sequence of elements within an array.\n",
    "\n",
    "Example 1:\n",
    "\n",
    "Input: nums = [1,1,1], k = 2\n",
    "Output: 2\n",
    "\n",
    "Example 2:\n",
    "\n",
    "Input: nums = [1,2,3], k = 3\n",
    "Output: 2"
   ]
  },
  {
   "cell_type": "code",
   "execution_count": null,
   "id": "66aa67bc",
   "metadata": {},
   "outputs": [
    {
     "data": {
      "text/plain": [
       "6"
      ]
     },
     "execution_count": 20,
     "metadata": {},
     "output_type": "execute_result"
    }
   ],
   "source": [
    "# prefix_sum[i] = nums[0] + ... + nums[i]\n",
    "# sum from i to j = prefix_sum[j] - prefix_sum[i-1] = k\n",
    "\n",
    "\n",
    "def subarraySum(nums: List[int], k: int) -> int:\n",
    "    prefix_sum = [0] * (len(nums)+1)\n",
    "    for idx, num in enumerate(nums):\n",
    "        prefix_sum[idx+1] = prefix_sum[idx] + num\n",
    "\n",
    "    cnt = 0\n",
    "    record = DefaultDict(int)\n",
    "\n",
    "    for prefix_value in prefix_sum:\n",
    "        cnt += record[prefix_value-k]\n",
    "        record[prefix_value] += 1\n",
    "\n",
    "    return cnt\n",
    "\n",
    "\n",
    "nums = [3, 1, 2, 3, 0, 1, 2]\n",
    "subarraySum(nums, 3)"
   ]
  },
  {
   "cell_type": "markdown",
   "id": "07ddce48",
   "metadata": {},
   "source": [
    "# 53*. Maximum Subarray\n",
    "Given an integer array nums, find the subarray with the largest sum, and return its sum.\n",
    "\n",
    " \n",
    "\n",
    "Example 1:\n",
    "\n",
    "Input: nums = [-2,1,-3,4,-1,2,1,-5,4]\n",
    "Output: 6\n",
    "Explanation: The subarray [4,-1,2,1] has the largest sum 6."
   ]
  },
  {
   "cell_type": "code",
   "execution_count": null,
   "id": "12bd9fee",
   "metadata": {},
   "outputs": [
    {
     "data": {
      "text/plain": [
       "6"
      ]
     },
     "execution_count": 22,
     "metadata": {},
     "output_type": "execute_result"
    }
   ],
   "source": [
    "# Kadane Algorithm (DP)\n",
    "def maxSubArray(nums: List[int]) -> int:\n",
    "    curr = nums[0]\n",
    "    res = nums[0]\n",
    "\n",
    "    for num in nums[1:]:\n",
    "        curr = max(num, curr + num)\n",
    "        res = max(res, curr)\n",
    "\n",
    "    return res\n",
    "\n",
    "\n",
    "nums = [-2, 1, -3, 4, -1, 2, 1, -5, 4]\n",
    "maxSubArray(nums)\n",
    "\n",
    "\n",
    "\n"
   ]
  },
  {
   "cell_type": "markdown",
   "id": "22db0a91",
   "metadata": {},
   "source": [
    "# 56. Merge Intervals\n",
    "Given an array of intervals where intervals[i] = [starti, endi], merge all overlapping intervals, and return an array of the non-overlapping intervals that cover all the intervals in the input.\n",
    "\n",
    " \n",
    "\n",
    "Example 1:\n",
    "\n",
    "Input: intervals = [[1,3],[2,6],[8,10],[15,18]]\n",
    "Output: [[1,6],[8,10],[15,18]]\n",
    "Explanation: Since intervals [1,3] and [2,6] overlap, merge them into [1,6]."
   ]
  },
  {
   "cell_type": "code",
   "execution_count": null,
   "id": "18ecdb64",
   "metadata": {},
   "outputs": [
    {
     "name": "stdout",
     "output_type": "stream",
     "text": [
      "[[1, 6], [8, 10], [15, 18]]\n"
     ]
    }
   ],
   "source": [
    "def merge(intervals: List[List[int]]) -> List[List[int]]:\n",
    "    sorted_interval = sorted(intervals, key=lambda x:x[0])\n",
    "    res = []\n",
    "    for interval in sorted_interval:\n",
    "        if len(res) == 0:\n",
    "            res.append(interval)\n",
    "\n",
    "        if interval[0] <= res[-1][1]: # Overlapping\n",
    "            if interval[1] <= res[-1][1]:\n",
    "                # Fully contained\n",
    "                continue\n",
    "            \n",
    "            else:\n",
    "                res[-1][1] = interval[1]\n",
    "\n",
    "        else:\n",
    "            res.append(interval)\n",
    "\n",
    "    return res\n",
    "\n",
    "\n",
    "\n",
    "\n",
    "\n",
    "\n",
    "\n",
    "intervals = [[1,3],[2,6],[8,10],[15,18],[3,5]]\n",
    "print(merge(intervals))"
   ]
  },
  {
   "cell_type": "markdown",
   "id": "75327e9c",
   "metadata": {},
   "source": [
    "# 189. Rotate Array\n",
    "Given an integer array nums, rotate the array to the right by k steps, where k is non-negative.\n",
    "\n",
    " \n",
    "\n",
    "Example 1:\n",
    "\n",
    "Input: nums = [1,2,3,4,5,6,7], k = 3\n",
    "Output: [5,6,7,1,2,3,4]\n",
    "\n",
    "Explanation:\n",
    "rotate 1 steps to the right: [7,1,2,3,4,5,6]\n",
    "\n",
    "rotate 2 steps to the right: [6,7,1,2,3,4,5]\n",
    "\n",
    "rotate 3 steps to the right: [5,6,7,1,2,3,4]"
   ]
  },
  {
   "cell_type": "code",
   "execution_count": null,
   "id": "5ecc682b",
   "metadata": {},
   "outputs": [
    {
     "data": {
      "text/plain": [
       "[5, 6, 7, 1, 2, 3, 4]"
      ]
     },
     "execution_count": 45,
     "metadata": {},
     "output_type": "execute_result"
    }
   ],
   "source": [
    "#[A, B] -> [B^R, A^R] -> [B, A]\n",
    "def rotate(nums: List[int], k: int) -> None:\n",
    "    n = len(nums)\n",
    "    k_eff = k % n\n",
    "\n",
    "    def reverse(left, right):\n",
    "        while left < right:\n",
    "            nums[left], nums[right] = nums[right], nums[left]\n",
    "            left += 1\n",
    "            right -= 1\n",
    "\n",
    "    reverse(0, n-1)\n",
    "    reverse(0, k_eff-1)\n",
    "    reverse(k_eff, n-1)\n",
    "\n",
    "\n",
    "nums = [1, 2, 3, 4, 5, 6, 7]\n",
    "\n",
    "rotate(nums, 3)\n",
    "nums\n",
    "\n"
   ]
  }
 ],
 "metadata": {
  "kernelspec": {
   "display_name": "Python 3",
   "language": "python",
   "name": "python3"
  },
  "language_info": {
   "codemirror_mode": {
    "name": "ipython",
    "version": 3
   },
   "file_extension": ".py",
   "mimetype": "text/x-python",
   "name": "python",
   "nbconvert_exporter": "python",
   "pygments_lexer": "ipython3",
   "version": "3.11.5"
  }
 },
 "nbformat": 4,
 "nbformat_minor": 5
}
