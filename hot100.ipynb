{
 "cells": [
  {
   "cell_type": "code",
   "execution_count": 3,
   "id": "1d9a3b3e",
   "metadata": {},
   "outputs": [],
   "source": [
    "import numpy as np\n",
    "from typing import *"
   ]
  },
  {
   "cell_type": "markdown",
   "id": "1c435db2",
   "metadata": {},
   "source": [
    "# 1. Two Sum\n",
    "Given an array of integers nums and an integer target, return indices of the two numbers such that they add up to target.\n",
    "\n",
    "You may assume that each input would have exactly one solution, and you may not use the same element twice.\n",
    "\n",
    "You can return the answer in any order."
   ]
  },
  {
   "cell_type": "code",
   "execution_count": 5,
   "id": "85015fe9",
   "metadata": {},
   "outputs": [
    {
     "name": "stdout",
     "output_type": "stream",
     "text": [
      "[0, 1]\n"
     ]
    }
   ],
   "source": [
    "def twoSum(nums: List[int], target: int) -> List[int]:\n",
    "    record = {}\n",
    "    result = []\n",
    "    for idx in range(len(nums)):\n",
    "        if target - nums[idx] in record.keys():\n",
    "            result = [record[target - nums[idx]], idx]\n",
    "\n",
    "        else:\n",
    "            record[nums[idx]] = idx\n",
    "\n",
    "\n",
    "    return result\n",
    "\n",
    "result = twoSum([2,7,11,15], 9)\n",
    "print(result)"
   ]
  },
  {
   "cell_type": "markdown",
   "id": "a23ad490",
   "metadata": {},
   "source": [
    "# 49. Group Anagrams\n",
    "Given an array of strings strs, group the anagrams together. You can return the answer in any order.\n",
    "\n",
    "Example 1:\n",
    "\n",
    "Input: strs = [\"eat\",\"tea\",\"tan\",\"ate\",\"nat\",\"bat\"]\n",
    "\n",
    "Output: [[\"bat\"],[\"nat\",\"tan\"],[\"ate\",\"eat\",\"tea\"]]\n",
    "\n",
    "Explanation:\n",
    "\n",
    "There is no string in strs that can be rearranged to form \"bat\".\n",
    "The strings \"nat\" and \"tan\" are anagrams as they can be rearranged to form each other.\n",
    "The strings \"ate\", \"eat\", and \"tea\" are anagrams as they can be rearranged to form each other."
   ]
  },
  {
   "cell_type": "code",
   "execution_count": null,
   "id": "27605d0d",
   "metadata": {},
   "outputs": [
    {
     "name": "stdout",
     "output_type": "stream",
     "text": [
      "[['eat', 'tea', 'ate'], ['tan', 'nat'], ['bat']]\n"
     ]
    }
   ],
   "source": [
    "# 1. Make the order in the word irrelevant\n",
    "# 2. Output should be a list\n",
    "def groupAnagrams(strs: List[str]) -> List[List[str]]:\n",
    "    record = DefaultDict(list)\n",
    "\n",
    "    for word in strs:\n",
    "        a = \"\".join(sorted(word))\n",
    "        record[a].append(word)\n",
    "\n",
    "    return list(record.values())\n",
    "\n",
    "\n",
    "result = groupAnagrams([\"eat\",\"tea\",\"tan\",\"ate\",\"nat\",\"bat\"])\n",
    "print(result)\n",
    "\n",
    "\n"
   ]
  },
  {
   "cell_type": "markdown",
   "id": "43e3d6e9",
   "metadata": {},
   "source": [
    "# 128. Longest Consecutive Sequence\n",
    "Given an unsorted array of integers nums, return the length of the longest consecutive elements sequence.\n",
    "\n",
    "You must write an algorithm that runs in O(n) time.\n",
    "\n",
    "Example 1:\n",
    "\n",
    "Input: nums = [100,4,200,1,3,2]\n",
    "Output: 4\n",
    "Explanation: The longest consecutive elements sequence is [1, 2, 3, 4]. Therefore its length is 4."
   ]
  },
  {
   "cell_type": "code",
   "execution_count": 13,
   "id": "fc162b40",
   "metadata": {},
   "outputs": [
    {
     "data": {
      "text/plain": [
       "4"
      ]
     },
     "execution_count": 13,
     "metadata": {},
     "output_type": "execute_result"
    }
   ],
   "source": [
    "# Only start counting when it is the first number in a sequence\n",
    "\n",
    "def longestConsecutive(nums: List[int]) -> int:\n",
    "    if len(nums) == 0:\n",
    "        return 0\n",
    "    \n",
    "\n",
    "    result = 1\n",
    "    num_set = set(nums)\n",
    "    for num in num_set:\n",
    "        if num-1 in num_set:\n",
    "            continue\n",
    "        temp = 1\n",
    "        while num+1 in num_set:\n",
    "            num  += 1\n",
    "            temp += 1\n",
    "            if temp > result:\n",
    "                result = temp\n",
    "\n",
    "\n",
    "\n",
    "    return result\n",
    "\n",
    "longestConsecutive([100,4,200,1,3,2])"
   ]
  },
  {
   "cell_type": "markdown",
   "id": "729c363a",
   "metadata": {},
   "source": [
    "# 283. Move Zeroes \n",
    "Given an integer array nums, move all 0's to the end of it while maintaining the relative order of the non-zero elements.\n",
    "\n",
    "Note that you must do this in-place without making a copy of the array.\n",
    "\n",
    "Example 1:\n",
    "\n",
    "Input: nums = [0,1,0,3,12]\n",
    "Output: [1,3,12,0,0]"
   ]
  },
  {
   "cell_type": "code",
   "execution_count": 19,
   "id": "51608d1c",
   "metadata": {},
   "outputs": [
    {
     "name": "stdout",
     "output_type": "stream",
     "text": [
      "[1, 3, 12, 0, 0]\n"
     ]
    }
   ],
   "source": [
    "def moveZeroes(nums: List[int]) -> None:\n",
    "    pointer = 0\n",
    "    for idx, num in enumerate(nums):\n",
    "        if num != 0:\n",
    "            nums[idx], nums[pointer] = nums[pointer], nums[idx]\n",
    "            pointer += 1\n",
    "        continue\n",
    "\n",
    "\n",
    "nums = [0,1,0,3,12]\n",
    "moveZeroes(nums)\n",
    "print(nums)\n"
   ]
  }
 ],
 "metadata": {
  "kernelspec": {
   "display_name": "Python 3",
   "language": "python",
   "name": "python3"
  },
  "language_info": {
   "codemirror_mode": {
    "name": "ipython",
    "version": 3
   },
   "file_extension": ".py",
   "mimetype": "text/x-python",
   "name": "python",
   "nbconvert_exporter": "python",
   "pygments_lexer": "ipython3",
   "version": "3.11.5"
  }
 },
 "nbformat": 4,
 "nbformat_minor": 5
}
