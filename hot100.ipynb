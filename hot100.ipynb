{
 "cells": [
  {
   "cell_type": "code",
   "execution_count": 2,
   "id": "1d9a3b3e",
   "metadata": {},
   "outputs": [],
   "source": [
    "import numpy as np\n",
    "from typing import *"
   ]
  },
  {
   "cell_type": "markdown",
   "id": "1c435db2",
   "metadata": {},
   "source": [
    "# 1. Two Sum\n",
    "Given an array of integers nums and an integer target, return indices of the two numbers such that they add up to target.\n",
    "\n",
    "You may assume that each input would have exactly one solution, and you may not use the same element twice.\n",
    "\n",
    "You can return the answer in any order."
   ]
  },
  {
   "cell_type": "code",
   "execution_count": 5,
   "id": "85015fe9",
   "metadata": {},
   "outputs": [
    {
     "name": "stdout",
     "output_type": "stream",
     "text": [
      "[0, 1]\n"
     ]
    }
   ],
   "source": [
    "def twoSum(nums: List[int], target: int) -> List[int]:\n",
    "    record = {}\n",
    "    result = []\n",
    "    for idx in range(len(nums)):\n",
    "        if target - nums[idx] in record.keys():\n",
    "            result = [record[target - nums[idx]], idx]\n",
    "\n",
    "        else:\n",
    "            record[nums[idx]] = idx\n",
    "\n",
    "\n",
    "    return result\n",
    "\n",
    "result = twoSum([2,7,11,15], 9)\n",
    "print(result)"
   ]
  },
  {
   "cell_type": "markdown",
   "id": "a23ad490",
   "metadata": {},
   "source": [
    "# 49. Group Anagrams\n",
    "Given an array of strings strs, group the anagrams together. You can return the answer in any order.\n",
    "\n",
    "Example 1:\n",
    "\n",
    "Input: strs = [\"eat\",\"tea\",\"tan\",\"ate\",\"nat\",\"bat\"]\n",
    "\n",
    "Output: [[\"bat\"],[\"nat\",\"tan\"],[\"ate\",\"eat\",\"tea\"]]\n",
    "\n",
    "Explanation:\n",
    "\n",
    "There is no string in strs that can be rearranged to form \"bat\".\n",
    "The strings \"nat\" and \"tan\" are anagrams as they can be rearranged to form each other.\n",
    "The strings \"ate\", \"eat\", and \"tea\" are anagrams as they can be rearranged to form each other."
   ]
  },
  {
   "cell_type": "code",
   "execution_count": null,
   "id": "27605d0d",
   "metadata": {},
   "outputs": [
    {
     "name": "stdout",
     "output_type": "stream",
     "text": [
      "[['eat', 'tea', 'ate'], ['tan', 'nat'], ['bat']]\n"
     ]
    }
   ],
   "source": [
    "# 1. Make the order in the word irrelevant\n",
    "# 2. Output should be a list\n",
    "def groupAnagrams(strs: List[str]) -> List[List[str]]:\n",
    "    record = DefaultDict(list)\n",
    "\n",
    "    for word in strs:\n",
    "        a = \"\".join(sorted(word))\n",
    "        record[a].append(word)\n",
    "\n",
    "    return list(record.values())\n",
    "\n",
    "\n",
    "result = groupAnagrams([\"eat\",\"tea\",\"tan\",\"ate\",\"nat\",\"bat\"])\n",
    "print(result)\n",
    "\n",
    "\n"
   ]
  },
  {
   "cell_type": "markdown",
   "id": "43e3d6e9",
   "metadata": {},
   "source": [
    "# 128. Longest Consecutive Sequence\n",
    "Given an unsorted array of integers nums, return the length of the longest consecutive elements sequence.\n",
    "\n",
    "You must write an algorithm that runs in O(n) time.\n",
    "\n",
    "Example 1:\n",
    "\n",
    "Input: nums = [100,4,200,1,3,2]\n",
    "Output: 4\n",
    "Explanation: The longest consecutive elements sequence is [1, 2, 3, 4]. Therefore its length is 4."
   ]
  },
  {
   "cell_type": "code",
   "execution_count": 13,
   "id": "fc162b40",
   "metadata": {},
   "outputs": [
    {
     "data": {
      "text/plain": [
       "4"
      ]
     },
     "execution_count": 13,
     "metadata": {},
     "output_type": "execute_result"
    }
   ],
   "source": [
    "# Only start counting when it is the first number in a sequence\n",
    "\n",
    "def longestConsecutive(nums: List[int]) -> int:\n",
    "    if len(nums) == 0:\n",
    "        return 0\n",
    "    \n",
    "\n",
    "    result = 1\n",
    "    num_set = set(nums)\n",
    "    for num in num_set:\n",
    "        if num-1 in num_set:\n",
    "            continue\n",
    "        temp = 1\n",
    "        while num+1 in num_set:\n",
    "            num  += 1\n",
    "            temp += 1\n",
    "            if temp > result:\n",
    "                result = temp\n",
    "\n",
    "\n",
    "\n",
    "    return result\n",
    "\n",
    "longestConsecutive([100,4,200,1,3,2])"
   ]
  },
  {
   "cell_type": "markdown",
   "id": "729c363a",
   "metadata": {},
   "source": [
    "# 283. Move Zeroes \n",
    "Given an integer array nums, move all 0's to the end of it while maintaining the relative order of the non-zero elements.\n",
    "\n",
    "Note that you must do this in-place without making a copy of the array.\n",
    "\n",
    "Example 1:\n",
    "\n",
    "Input: nums = [0,1,0,3,12]\n",
    "Output: [1,3,12,0,0]"
   ]
  },
  {
   "cell_type": "code",
   "execution_count": 19,
   "id": "51608d1c",
   "metadata": {},
   "outputs": [
    {
     "name": "stdout",
     "output_type": "stream",
     "text": [
      "[1, 3, 12, 0, 0]\n"
     ]
    }
   ],
   "source": [
    "def moveZeroes(nums: List[int]) -> None:\n",
    "    pointer = 0\n",
    "    for idx, num in enumerate(nums):\n",
    "        if num != 0:\n",
    "            nums[idx], nums[pointer] = nums[pointer], nums[idx]\n",
    "            pointer += 1\n",
    "        continue\n",
    "\n",
    "\n",
    "nums = [0,1,0,3,12]\n",
    "moveZeroes(nums)\n",
    "print(nums)\n"
   ]
  },
  {
   "cell_type": "markdown",
   "id": "94c16c6a",
   "metadata": {},
   "source": [
    "# 11. Container With Most Water\n",
    "You are given an integer array height of length n. There are n vertical lines drawn such that the two endpoints of the ith line are (i, 0) and (i, height[i]).\n",
    "\n",
    "Find two lines that together with the x-axis form a container, such that the container contains the most water.\n",
    "\n",
    "Return the maximum amount of water a container can store.\n",
    "\n",
    "Example 1:\n",
    "\n",
    "\n",
    "Input: height = [1,8,6,2,5,4,8,3,7]\n",
    "Output: 49\n",
    "Explanation: The above vertical lines are represented by array [1,8,6,2,5,4,8,3,7]. In this case, the max area of water (blue section) the container can contain is 49."
   ]
  },
  {
   "cell_type": "code",
   "execution_count": 5,
   "id": "b48489b4",
   "metadata": {},
   "outputs": [
    {
     "name": "stdout",
     "output_type": "stream",
     "text": [
      "1\n"
     ]
    }
   ],
   "source": [
    "def maxArea(height: List[int]) -> int:\n",
    "    right = len(height) - 1\n",
    "    left = 0\n",
    "    max_area = (right - left) * min(height[left], height[right])\n",
    "\n",
    "    while left < right:\n",
    "        if left < right and height[left] < height[right]:\n",
    "            left += 1\n",
    "            new_area = (right - left) * min(height[left], height[right])\n",
    "            max_area = max(new_area, max_area)\n",
    "\n",
    "        else:\n",
    "            right -= 1\n",
    "            new_area = (right - left) * min(height[left], height[right])\n",
    "            max_area = max(new_area, max_area)\n",
    "\n",
    "    return max_area\n",
    "\n",
    "height = [1,1]\n",
    "print(maxArea(height))"
   ]
  },
  {
   "cell_type": "markdown",
   "id": "cb5cd0fa",
   "metadata": {},
   "source": [
    "# 15. 3Sum\n",
    "Given an integer array nums, return all the triplets [nums[i], nums[j], nums[k]] such that i != j, i != k, and j != k, and nums[i] + nums[j] + nums[k] == 0.\n",
    "\n",
    "Notice that the solution set must not contain duplicate triplets.\n",
    "\n",
    "Example 1:\n",
    "\n",
    "Input: nums = [-1,0,1,2,-1,-4]\n",
    "\n",
    "Output: [[-1,-1,2],[-1,0,1]]\n",
    "\n",
    "Explanation: \n",
    "nums[0] + nums[1] + nums[2] = (-1) + 0 + 1 = 0.\n",
    "nums[1] + nums[2] + nums[4] = 0 + 1 + (-1) = 0.\n",
    "nums[0] + nums[3] + nums[4] = (-1) + 2 + (-1) = 0.\n",
    "The distinct triplets are [-1,0,1] and [-1,-1,2].\n",
    "Notice that the order of the output and the order of the triplets does not matter."
   ]
  },
  {
   "cell_type": "code",
   "execution_count": 13,
   "id": "3fb5b600",
   "metadata": {},
   "outputs": [
    {
     "name": "stdout",
     "output_type": "stream",
     "text": [
      "[[-1, -1, 2], [-1, 0, 1]]\n"
     ]
    }
   ],
   "source": [
    "def threeSum(nums: List[int]) -> List[List[int]]:\n",
    "    nums = sorted(nums)\n",
    "    result = []\n",
    "    for idx in range(len(nums)-2):\n",
    "        if nums[idx] > 0:\n",
    "            break\n",
    "    \n",
    "        if idx > 0 and nums[idx] == nums[idx-1]:\n",
    "            continue\n",
    "\n",
    "        left = idx + 1\n",
    "        right = len(nums) - 1\n",
    "\n",
    "\n",
    "        while left < right:\n",
    "            value = nums[idx] + nums[left] + nums[right]\n",
    "            if value < 0:\n",
    "                left += 1\n",
    "            elif value > 0:\n",
    "                right -= 1\n",
    "            else:\n",
    "                result.append([nums[idx], nums[left], nums[right]])\n",
    "                # skip duplicate\n",
    "                while left < right and nums[left] == nums[left+1]:\n",
    "                    left += 1\n",
    "                \n",
    "                while left < right and nums[right] == nums[right-1]:\n",
    "                    right -= 1\n",
    "\n",
    "\n",
    "                left  += 1\n",
    "                right -= 1\n",
    "                \n",
    "    return result\n",
    "\n",
    "\n",
    "nums = [-1,0,1,2,-1,-4]\n",
    "print(threeSum(nums))\n",
    "\n",
    "\n",
    "\n"
   ]
  },
  {
   "cell_type": "markdown",
   "id": "7526ff49",
   "metadata": {},
   "source": [
    "# 3. Longest Substring Without Repeating Characters\n",
    "Given a string s, find the length of the longest substring without duplicate characters.\n",
    "\n",
    "Example 1:\n",
    "\n",
    "Input: s = \"abcabcbb\"\n",
    "Output: 3\n",
    "Explanation: The answer is \"abc\", with the length of 3.\n"
   ]
  },
  {
   "cell_type": "code",
   "execution_count": 24,
   "id": "15d888e7",
   "metadata": {},
   "outputs": [
    {
     "name": "stdout",
     "output_type": "stream",
     "text": [
      "3\n"
     ]
    }
   ],
   "source": [
    "def lengthOfLongestSubstring(s: str) -> int:\n",
    "    left = 0\n",
    "    record = set()\n",
    "    max_length = 0\n",
    "\n",
    "    for right in range(len(s)):\n",
    "        while s[right] in record:\n",
    "            record.remove(s[left])\n",
    "            left += 1\n",
    "\n",
    "        record.add(s[right])\n",
    "        max_length = max(len(record), max_length)\n",
    "\n",
    "    return max_length\n",
    "\n",
    "s = \"pwwkew\"\n",
    "print(lengthOfLongestSubstring(s))"
   ]
  },
  {
   "cell_type": "markdown",
   "id": "4066a6cc",
   "metadata": {},
   "source": [
    "# 438. Find All Anagrams in a String\n",
    "Given two strings s and p, return an array of all the start indices of p's anagrams in s. You may return the answer in any order.\n",
    "\n",
    " \n",
    "\n",
    "Example 1:\n",
    "\n",
    "Input: s = \"cbaebabacd\", p = \"abc\"\n",
    "\n",
    "Output: [0,6]\n",
    "\n",
    "Explanation:\n",
    "The substring with start index = 0 is \"cba\", which is an anagram of \"abc\".\n",
    "The substring with start index = 6 is \"bac\", which is an anagram of \"abc\"."
   ]
  },
  {
   "cell_type": "code",
   "execution_count": 26,
   "id": "8e7bd7f2",
   "metadata": {},
   "outputs": [
    {
     "name": "stdout",
     "output_type": "stream",
     "text": [
      "[0, 6]\n"
     ]
    }
   ],
   "source": [
    "def findAnagrams(s: str, p: str) -> List[int]:\n",
    "    s_dict = DefaultDict(int)\n",
    "    p_dict = DefaultDict(int)\n",
    "    result = []\n",
    "    p_len = len(p)\n",
    "    for char in p:\n",
    "        p_dict[char] += 1\n",
    "\n",
    "    for idx, char in enumerate(s):\n",
    "        s_dict[char] += 1\n",
    "        if sum(s_dict.values()) > p_len:\n",
    "            s_dict[s[idx-p_len]] -= 1\n",
    "            if s_dict[s[idx-p_len]] == 0:\n",
    "                del s_dict[s[idx-p_len]]\n",
    "\n",
    "\n",
    "        if s_dict == p_dict:\n",
    "            result.append(idx - p_len + 1)\n",
    "\n",
    "    return result \n",
    "\n",
    "s = \"cbaebabacd\"\n",
    "p = \"abc\"\n",
    "\n",
    "print(findAnagrams(s, p))"
   ]
  }
 ],
 "metadata": {
  "kernelspec": {
   "display_name": "Python 3",
   "language": "python",
   "name": "python3"
  },
  "language_info": {
   "codemirror_mode": {
    "name": "ipython",
    "version": 3
   },
   "file_extension": ".py",
   "mimetype": "text/x-python",
   "name": "python",
   "nbconvert_exporter": "python",
   "pygments_lexer": "ipython3",
   "version": "3.11.5"
  }
 },
 "nbformat": 4,
 "nbformat_minor": 5
}
